{
 "cells": [
  {
   "cell_type": "code",
   "execution_count": 15,
   "metadata": {},
   "outputs": [],
   "source": [
    "# Set up libraries\n",
    "import requests as r\n",
    "import numpy as np\n",
    "import pandas as pd\n",
    "from itertools import product"
   ]
  },
  {
   "cell_type": "code",
   "execution_count": 16,
   "metadata": {},
   "outputs": [],
   "source": [
    "# credentials: key, url, headers\n",
    "url = 'https://api.yelp.com/v3/businesses/search'\n",
    "key = 'mXLAFbhr_jRjtuHt3aZL-qbuRDPPeyfmxyO9ox0NA-YWGvdig6Plhiw_OA6rpswPibM-IHklRd-p8QsL3271p5NwwRXVjClF2oy7Fw3Vh5Mq2SeRM9Dy8npvv_M-YHYx'\n",
    "headers = {\n",
    "    'Authorization': 'Bearer %s' % key \n",
    "}"
   ]
  },
  {
   "cell_type": "code",
   "execution_count": 17,
   "metadata": {},
   "outputs": [
    {
     "data": {
      "text/plain": [
       "{'businesses': [{'id': 'JHe_sLXEaf95wRVZ-vDx3A',\n",
       "   'alias': 'moms-organic-market-rockville',\n",
       "   'name': \"MOM's Organic Market\",\n",
       "   'image_url': 'https://s3-media2.fl.yelpcdn.com/bphoto/3y7BDOSIHVeL1wJHQqt8kw/o.jpg',\n",
       "   'is_closed': False,\n",
       "   'url': 'https://www.yelp.com/biz/moms-organic-market-rockville?adjust_creative=m-I4MT_c9qsj7THrem-d0g&utm_campaign=yelp_api_v3&utm_medium=api_v3_business_search&utm_source=m-I4MT_c9qsj7THrem-d0g',\n",
       "   'review_count': 191,\n",
       "   'categories': [{'alias': 'grocery', 'title': 'Grocery'},\n",
       "    {'alias': 'healthmarkets', 'title': 'Health Markets'},\n",
       "    {'alias': 'organic_stores', 'title': 'Organic Stores'}],\n",
       "   'rating': 4.5,\n",
       "   'coordinates': {'latitude': 39.05304, 'longitude': -77.11226},\n",
       "   'transactions': [],\n",
       "   'price': '$$',\n",
       "   'location': {'address1': '5566 Randolph Rd',\n",
       "    'address2': '',\n",
       "    'address3': '',\n",
       "    'city': 'Rockville',\n",
       "    'zip_code': '20852',\n",
       "    'country': 'US',\n",
       "    'state': 'MD',\n",
       "    'display_address': ['5566 Randolph Rd', 'Rockville, MD 20852']},\n",
       "   'phone': '+13018164944',\n",
       "   'display_phone': '(301) 816-4944',\n",
       "   'distance': 1102.4124200357621},\n",
       "  {'id': 'zxhmj8yk1-NBUuTFM5jqSw',\n",
       "   'alias': 'dawsons-market-rockville',\n",
       "   'name': \"Dawson's Market\",\n",
       "   'image_url': 'https://s3-media3.fl.yelpcdn.com/bphoto/RAxtMnvaAH4hpGcxW_gYbg/o.jpg',\n",
       "   'is_closed': False,\n",
       "   'url': 'https://www.yelp.com/biz/dawsons-market-rockville?adjust_creative=m-I4MT_c9qsj7THrem-d0g&utm_campaign=yelp_api_v3&utm_medium=api_v3_business_search&utm_source=m-I4MT_c9qsj7THrem-d0g',\n",
       "   'review_count': 201,\n",
       "   'categories': [{'alias': 'grocery', 'title': 'Grocery'},\n",
       "    {'alias': 'coffee', 'title': 'Coffee & Tea'},\n",
       "    {'alias': 'juicebars', 'title': 'Juice Bars & Smoothies'}],\n",
       "   'rating': 4.0,\n",
       "   'coordinates': {'latitude': 39.085991, 'longitude': -77.15242},\n",
       "   'transactions': ['delivery', 'pickup'],\n",
       "   'price': '$$$',\n",
       "   'location': {'address1': '225 N Washington St',\n",
       "    'address2': '',\n",
       "    'address3': '',\n",
       "    'city': 'Rockville',\n",
       "    'zip_code': '20850',\n",
       "    'country': 'US',\n",
       "    'state': 'MD',\n",
       "    'display_address': ['225 N Washington St', 'Rockville, MD 20850']},\n",
       "   'phone': '+12404281386',\n",
       "   'display_phone': '(240) 428-1386',\n",
       "   'distance': 4221.366863637159},\n",
       "  {'id': 'U3qOUU3AfkWQhU1fegt_eQ',\n",
       "   'alias': 'moms-organic-market-gaithersburg-rockville',\n",
       "   'name': \"MOM's Organic Market - Gaithersburg\",\n",
       "   'image_url': 'https://s3-media4.fl.yelpcdn.com/bphoto/XgkHw0noQU0cl3PWHVspZA/o.jpg',\n",
       "   'is_closed': False,\n",
       "   'url': 'https://www.yelp.com/biz/moms-organic-market-gaithersburg-rockville?adjust_creative=m-I4MT_c9qsj7THrem-d0g&utm_campaign=yelp_api_v3&utm_medium=api_v3_business_search&utm_source=m-I4MT_c9qsj7THrem-d0g',\n",
       "   'review_count': 37,\n",
       "   'categories': [{'alias': 'organic_stores', 'title': 'Organic Stores'}],\n",
       "   'rating': 4.0,\n",
       "   'coordinates': {'latitude': 39.113415, 'longitude': -77.184517},\n",
       "   'transactions': [],\n",
       "   'price': '$$',\n",
       "   'location': {'address1': '10 Upper Rock Cir',\n",
       "    'address2': None,\n",
       "    'address3': '',\n",
       "    'city': 'Rockville',\n",
       "    'zip_code': '20850',\n",
       "    'country': 'US',\n",
       "    'state': 'MD',\n",
       "    'display_address': ['10 Upper Rock Cir', 'Rockville, MD 20850']},\n",
       "   'phone': '+13012501165',\n",
       "   'display_phone': '(301) 250-1165',\n",
       "   'distance': 8308.59726147117},\n",
       "  {'id': 'Owtr6I7sYIOK_MiXz5GcTg',\n",
       "   'alias': 'o-donnells-market-potomac',\n",
       "   'name': \"O'Donnell's Market\",\n",
       "   'image_url': 'https://s3-media2.fl.yelpcdn.com/bphoto/Xc4299Hxmy5neNbRHkpiYA/o.jpg',\n",
       "   'is_closed': False,\n",
       "   'url': 'https://www.yelp.com/biz/o-donnells-market-potomac?adjust_creative=m-I4MT_c9qsj7THrem-d0g&utm_campaign=yelp_api_v3&utm_medium=api_v3_business_search&utm_source=m-I4MT_c9qsj7THrem-d0g',\n",
       "   'review_count': 115,\n",
       "   'categories': [{'alias': 'seafoodmarkets', 'title': 'Seafood Markets'},\n",
       "    {'alias': 'grocery', 'title': 'Grocery'},\n",
       "    {'alias': 'bakeries', 'title': 'Bakeries'}],\n",
       "   'rating': 4.5,\n",
       "   'coordinates': {'latitude': 39.061753, 'longitude': -77.160175},\n",
       "   'transactions': [],\n",
       "   'price': '$$',\n",
       "   'location': {'address1': '1073 Seven Locks Rd',\n",
       "    'address2': '',\n",
       "    'address3': '',\n",
       "    'city': 'Potomac',\n",
       "    'zip_code': '20854',\n",
       "    'country': 'US',\n",
       "    'state': 'MD',\n",
       "    'display_address': ['1073 Seven Locks Rd', 'Potomac, MD 20854']},\n",
       "   'phone': '+13012516355',\n",
       "   'display_phone': '(301) 251-6355',\n",
       "   'distance': 4012.153854959332},\n",
       "  {'id': 'EWOEP3VDappkCiDXEGzi2Q',\n",
       "   'alias': 'naked-lunch-college-park',\n",
       "   'name': 'Naked Lunch',\n",
       "   'image_url': 'https://s3-media1.fl.yelpcdn.com/bphoto/xqnZXEV7wxmXXfYqUDx93w/o.jpg',\n",
       "   'is_closed': False,\n",
       "   'url': 'https://www.yelp.com/biz/naked-lunch-college-park?adjust_creative=m-I4MT_c9qsj7THrem-d0g&utm_campaign=yelp_api_v3&utm_medium=api_v3_business_search&utm_source=m-I4MT_c9qsj7THrem-d0g',\n",
       "   'review_count': 8,\n",
       "   'categories': [{'alias': 'juicebars', 'title': 'Juice Bars & Smoothies'},\n",
       "    {'alias': 'organic_stores', 'title': 'Organic Stores'}],\n",
       "   'rating': 5.0,\n",
       "   'coordinates': {'latitude': 39.0139818175194,\n",
       "    'longitude': -76.9199247658253},\n",
       "   'transactions': [],\n",
       "   'location': {'address1': '9801 Rhode Island Ave',\n",
       "    'address2': None,\n",
       "    'address3': None,\n",
       "    'city': 'College Park',\n",
       "    'zip_code': '20740',\n",
       "    'country': 'US',\n",
       "    'state': 'MD',\n",
       "    'display_address': ['9801 Rhode Island Ave', 'College Park, MD 20740']},\n",
       "   'phone': '',\n",
       "   'display_phone': '',\n",
       "   'distance': 17595.49248166962}],\n",
       " 'total': 460,\n",
       " 'region': {'center': {'longitude': -77.11372375488281,\n",
       "   'latitude': 39.06277932182584}}}"
      ]
     },
     "execution_count": 17,
     "metadata": {},
     "output_type": "execute_result"
    }
   ],
   "source": [
    "# 1st scrape:\n",
    "# define search parameters: location, limit, term, radius\n",
    "parameters = {\n",
    "    'location': '5600 Fishers Lane, Rockville MD 20857',\n",
    "    'limit': 5, \n",
    "    'term': \"organic market\",\n",
    "    'radius': 40000\n",
    "}\n",
    "# run parameters through response and save json as data\n",
    "response = r.get(url, headers=headers, params=parameters)\n",
    "data = response.json()\n",
    "data"
   ]
  },
  {
   "cell_type": "markdown",
   "metadata": {},
   "source": [
    "## scrape data and put into listing to create df"
   ]
  },
  {
   "cell_type": "code",
   "execution_count": 19,
   "metadata": {},
   "outputs": [
    {
     "data": {
      "text/plain": [
       "('345 St Paul Pl, Baltimore MD 21202', 250)"
      ]
     },
     "execution_count": 19,
     "metadata": {},
     "output_type": "execute_result"
    }
   ],
   "source": [
    "addresses = ['5600 Fishers Lane, Rockville MD 20857', '345 St Paul Pl, Baltimore MD 21202']\n",
    "offset = np.arange(0,500, 50).tolist()\n",
    "\n",
    "tuples = list(product(addresses,offset))\n",
    "\n",
    "tuples[15]"
   ]
  },
  {
   "cell_type": "code",
   "execution_count": 25,
   "metadata": {},
   "outputs": [
    {
     "ename": "JSONDecodeError",
     "evalue": "Expecting value: line 1 column 1 (char 0)",
     "output_type": "error",
     "traceback": [
      "\u001b[0;31m---------------------------------------------------------------------------\u001b[0m",
      "\u001b[0;31mJSONDecodeError\u001b[0m                           Traceback (most recent call last)",
      "\u001b[0;32m<ipython-input-25-20a98109ca08>\u001b[0m in \u001b[0;36m<module>\u001b[0;34m\u001b[0m\n\u001b[1;32m     17\u001b[0m \u001b[0;34m\u001b[0m\u001b[0m\n\u001b[1;32m     18\u001b[0m     \u001b[0mresp\u001b[0m \u001b[0;34m=\u001b[0m \u001b[0mr\u001b[0m\u001b[0;34m.\u001b[0m\u001b[0mget\u001b[0m\u001b[0;34m(\u001b[0m\u001b[0murl\u001b[0m\u001b[0;34m,\u001b[0m \u001b[0mheaders\u001b[0m\u001b[0;34m=\u001b[0m\u001b[0mheaders\u001b[0m\u001b[0;34m,\u001b[0m \u001b[0mparams\u001b[0m\u001b[0;34m=\u001b[0m\u001b[0msearch_parameters\u001b[0m\u001b[0;34m)\u001b[0m\u001b[0;34m\u001b[0m\u001b[0;34m\u001b[0m\u001b[0m\n\u001b[0;32m---> 19\u001b[0;31m     \u001b[0mraw_data\u001b[0m \u001b[0;34m=\u001b[0m \u001b[0mresp\u001b[0m\u001b[0;34m.\u001b[0m\u001b[0mjson\u001b[0m\u001b[0;34m(\u001b[0m\u001b[0;34m)\u001b[0m\u001b[0;34m\u001b[0m\u001b[0;34m\u001b[0m\u001b[0m\n\u001b[0m\u001b[1;32m     20\u001b[0m \u001b[0;34m\u001b[0m\u001b[0m\n\u001b[1;32m     21\u001b[0m     \u001b[0;32mfor\u001b[0m \u001b[0mbusiness\u001b[0m \u001b[0;32min\u001b[0m \u001b[0mraw_data\u001b[0m\u001b[0;34m[\u001b[0m\u001b[0;34m'businesses'\u001b[0m\u001b[0;34m]\u001b[0m\u001b[0;34m:\u001b[0m\u001b[0;34m\u001b[0m\u001b[0;34m\u001b[0m\u001b[0m\n",
      "\u001b[0;32m~/opt/anaconda3/lib/python3.8/site-packages/requests/models.py\u001b[0m in \u001b[0;36mjson\u001b[0;34m(self, **kwargs)\u001b[0m\n\u001b[1;32m    896\u001b[0m                     \u001b[0;31m# used.\u001b[0m\u001b[0;34m\u001b[0m\u001b[0;34m\u001b[0m\u001b[0;34m\u001b[0m\u001b[0m\n\u001b[1;32m    897\u001b[0m                     \u001b[0;32mpass\u001b[0m\u001b[0;34m\u001b[0m\u001b[0;34m\u001b[0m\u001b[0m\n\u001b[0;32m--> 898\u001b[0;31m         \u001b[0;32mreturn\u001b[0m \u001b[0mcomplexjson\u001b[0m\u001b[0;34m.\u001b[0m\u001b[0mloads\u001b[0m\u001b[0;34m(\u001b[0m\u001b[0mself\u001b[0m\u001b[0;34m.\u001b[0m\u001b[0mtext\u001b[0m\u001b[0;34m,\u001b[0m \u001b[0;34m**\u001b[0m\u001b[0mkwargs\u001b[0m\u001b[0;34m)\u001b[0m\u001b[0;34m\u001b[0m\u001b[0;34m\u001b[0m\u001b[0m\n\u001b[0m\u001b[1;32m    899\u001b[0m \u001b[0;34m\u001b[0m\u001b[0m\n\u001b[1;32m    900\u001b[0m     \u001b[0;34m@\u001b[0m\u001b[0mproperty\u001b[0m\u001b[0;34m\u001b[0m\u001b[0;34m\u001b[0m\u001b[0m\n",
      "\u001b[0;32m~/opt/anaconda3/lib/python3.8/json/__init__.py\u001b[0m in \u001b[0;36mloads\u001b[0;34m(s, cls, object_hook, parse_float, parse_int, parse_constant, object_pairs_hook, **kw)\u001b[0m\n\u001b[1;32m    355\u001b[0m             \u001b[0mparse_int\u001b[0m \u001b[0;32mis\u001b[0m \u001b[0;32mNone\u001b[0m \u001b[0;32mand\u001b[0m \u001b[0mparse_float\u001b[0m \u001b[0;32mis\u001b[0m \u001b[0;32mNone\u001b[0m \u001b[0;32mand\u001b[0m\u001b[0;34m\u001b[0m\u001b[0;34m\u001b[0m\u001b[0m\n\u001b[1;32m    356\u001b[0m             parse_constant is None and object_pairs_hook is None and not kw):\n\u001b[0;32m--> 357\u001b[0;31m         \u001b[0;32mreturn\u001b[0m \u001b[0m_default_decoder\u001b[0m\u001b[0;34m.\u001b[0m\u001b[0mdecode\u001b[0m\u001b[0;34m(\u001b[0m\u001b[0ms\u001b[0m\u001b[0;34m)\u001b[0m\u001b[0;34m\u001b[0m\u001b[0;34m\u001b[0m\u001b[0m\n\u001b[0m\u001b[1;32m    358\u001b[0m     \u001b[0;32mif\u001b[0m \u001b[0mcls\u001b[0m \u001b[0;32mis\u001b[0m \u001b[0;32mNone\u001b[0m\u001b[0;34m:\u001b[0m\u001b[0;34m\u001b[0m\u001b[0;34m\u001b[0m\u001b[0m\n\u001b[1;32m    359\u001b[0m         \u001b[0mcls\u001b[0m \u001b[0;34m=\u001b[0m \u001b[0mJSONDecoder\u001b[0m\u001b[0;34m\u001b[0m\u001b[0;34m\u001b[0m\u001b[0m\n",
      "\u001b[0;32m~/opt/anaconda3/lib/python3.8/json/decoder.py\u001b[0m in \u001b[0;36mdecode\u001b[0;34m(self, s, _w)\u001b[0m\n\u001b[1;32m    335\u001b[0m \u001b[0;34m\u001b[0m\u001b[0m\n\u001b[1;32m    336\u001b[0m         \"\"\"\n\u001b[0;32m--> 337\u001b[0;31m         \u001b[0mobj\u001b[0m\u001b[0;34m,\u001b[0m \u001b[0mend\u001b[0m \u001b[0;34m=\u001b[0m \u001b[0mself\u001b[0m\u001b[0;34m.\u001b[0m\u001b[0mraw_decode\u001b[0m\u001b[0;34m(\u001b[0m\u001b[0ms\u001b[0m\u001b[0;34m,\u001b[0m \u001b[0midx\u001b[0m\u001b[0;34m=\u001b[0m\u001b[0m_w\u001b[0m\u001b[0;34m(\u001b[0m\u001b[0ms\u001b[0m\u001b[0;34m,\u001b[0m \u001b[0;36m0\u001b[0m\u001b[0;34m)\u001b[0m\u001b[0;34m.\u001b[0m\u001b[0mend\u001b[0m\u001b[0;34m(\u001b[0m\u001b[0;34m)\u001b[0m\u001b[0;34m)\u001b[0m\u001b[0;34m\u001b[0m\u001b[0;34m\u001b[0m\u001b[0m\n\u001b[0m\u001b[1;32m    338\u001b[0m         \u001b[0mend\u001b[0m \u001b[0;34m=\u001b[0m \u001b[0m_w\u001b[0m\u001b[0;34m(\u001b[0m\u001b[0ms\u001b[0m\u001b[0;34m,\u001b[0m \u001b[0mend\u001b[0m\u001b[0;34m)\u001b[0m\u001b[0;34m.\u001b[0m\u001b[0mend\u001b[0m\u001b[0;34m(\u001b[0m\u001b[0;34m)\u001b[0m\u001b[0;34m\u001b[0m\u001b[0;34m\u001b[0m\u001b[0m\n\u001b[1;32m    339\u001b[0m         \u001b[0;32mif\u001b[0m \u001b[0mend\u001b[0m \u001b[0;34m!=\u001b[0m \u001b[0mlen\u001b[0m\u001b[0;34m(\u001b[0m\u001b[0ms\u001b[0m\u001b[0;34m)\u001b[0m\u001b[0;34m:\u001b[0m\u001b[0;34m\u001b[0m\u001b[0;34m\u001b[0m\u001b[0m\n",
      "\u001b[0;32m~/opt/anaconda3/lib/python3.8/json/decoder.py\u001b[0m in \u001b[0;36mraw_decode\u001b[0;34m(self, s, idx)\u001b[0m\n\u001b[1;32m    353\u001b[0m             \u001b[0mobj\u001b[0m\u001b[0;34m,\u001b[0m \u001b[0mend\u001b[0m \u001b[0;34m=\u001b[0m \u001b[0mself\u001b[0m\u001b[0;34m.\u001b[0m\u001b[0mscan_once\u001b[0m\u001b[0;34m(\u001b[0m\u001b[0ms\u001b[0m\u001b[0;34m,\u001b[0m \u001b[0midx\u001b[0m\u001b[0;34m)\u001b[0m\u001b[0;34m\u001b[0m\u001b[0;34m\u001b[0m\u001b[0m\n\u001b[1;32m    354\u001b[0m         \u001b[0;32mexcept\u001b[0m \u001b[0mStopIteration\u001b[0m \u001b[0;32mas\u001b[0m \u001b[0merr\u001b[0m\u001b[0;34m:\u001b[0m\u001b[0;34m\u001b[0m\u001b[0;34m\u001b[0m\u001b[0m\n\u001b[0;32m--> 355\u001b[0;31m             \u001b[0;32mraise\u001b[0m \u001b[0mJSONDecodeError\u001b[0m\u001b[0;34m(\u001b[0m\u001b[0;34m\"Expecting value\"\u001b[0m\u001b[0;34m,\u001b[0m \u001b[0ms\u001b[0m\u001b[0;34m,\u001b[0m \u001b[0merr\u001b[0m\u001b[0;34m.\u001b[0m\u001b[0mvalue\u001b[0m\u001b[0;34m)\u001b[0m \u001b[0;32mfrom\u001b[0m \u001b[0;32mNone\u001b[0m\u001b[0;34m\u001b[0m\u001b[0;34m\u001b[0m\u001b[0m\n\u001b[0m\u001b[1;32m    356\u001b[0m         \u001b[0;32mreturn\u001b[0m \u001b[0mobj\u001b[0m\u001b[0;34m,\u001b[0m \u001b[0mend\u001b[0m\u001b[0;34m\u001b[0m\u001b[0;34m\u001b[0m\u001b[0m\n",
      "\u001b[0;31mJSONDecodeError\u001b[0m: Expecting value: line 1 column 1 (char 0)"
     ]
    }
   ],
   "source": [
    "# Use a for loop, store results into a list of lists, turn it into a DataFrame\n",
    "# empty list\n",
    "listings = []\n",
    "\n",
    "# define columns for the df\n",
    "cols = ['Name', 'Website', 'Rating', 'Coordinates', 'City', 'Zip_Code', 'Address']\n",
    "\n",
    "# for loop\n",
    "for address, step in tuples:\n",
    "    search_parameters = {\n",
    "        'location': address,\n",
    "        'term': \"organic market\",\n",
    "        'radius': 40000,\n",
    "        'limit': 50,\n",
    "        'offset': step\n",
    "    } \n",
    "    \n",
    "    resp = r.get(url, headers=headers, params=search_parameters)\n",
    "    raw_data = resp.json()\n",
    "    \n",
    "    for business in raw_data['businesses']:\n",
    "        try:\n",
    "            name = business['name']\n",
    "            url = business['url']\n",
    "            rating = business['rating']\n",
    "            coordinates = business['latitude', 'longitude']\n",
    "            city = business['city']\n",
    "            zip_code = business['zip_code']\n",
    "            location = business['location']['display_address']\n",
    "            listing.append([name, url, rating, coordinates, city, zip_code, location])\n",
    "\n",
    "        except KeyError:\n",
    "            pass\n",
    "        \n",
    "    df = pd.DataFrame.from_records(listings, index='Name', columns=cols)\n",
    "print(f'Total Records: {len(df)}')\n",
    "df.head()\n"
   ]
  },
  {
   "cell_type": "code",
   "execution_count": null,
   "metadata": {},
   "outputs": [],
   "source": [
    "#   df = pd.DataFrame.from_records(listings, index='Name', columns=cols)\n",
    "# print(f'Total Records: {len(df)}')\n",
    "# df.head()"
   ]
  },
  {
   "cell_type": "code",
   "execution_count": null,
   "metadata": {},
   "outputs": [],
   "source": []
  }
 ],
 "metadata": {
  "kernelspec": {
   "display_name": "Python 3",
   "language": "python",
   "name": "python3"
  },
  "language_info": {
   "codemirror_mode": {
    "name": "ipython",
    "version": 3
   },
   "file_extension": ".py",
   "mimetype": "text/x-python",
   "name": "python",
   "nbconvert_exporter": "python",
   "pygments_lexer": "ipython3",
   "version": "3.8.3"
  }
 },
 "nbformat": 4,
 "nbformat_minor": 4
}
