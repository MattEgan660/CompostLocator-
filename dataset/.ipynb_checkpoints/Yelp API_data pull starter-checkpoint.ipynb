{
 "cells": [
  {
   "cell_type": "code",
   "execution_count": null,
   "metadata": {},
   "outputs": [],
   "source": [
    "from keys import my_api_key, gkey\n",
    "from yelp.client import Client\n",
    "import json\n",
    "import pandas as pd"
   ]
  },
  {
   "cell_type": "code",
   "execution_count": null,
   "metadata": {},
   "outputs": [],
   "source": [
    "### Read in Census data ### \n",
    "\n",
    "# read in cleaned census data and subset the data to segment rural (population > 1000 & < 50000 + exclude primitive locations)\n",
    "# urban (population > 50000) areas. Once data was subset, took 100 random samples from both data sets"
   ]
  },
  {
   "cell_type": "code",
   "execution_count": null,
   "metadata": {},
   "outputs": [],
   "source": [
    "df = pd.read_csv(\"../sub-est2019_all.csv\", engine='python')\n",
    "rural_city = df[(df[\"POPESTIMATE2019\"]< 50000) & (df[\"POPESTIMATE2019\"] > 1000) & (df[\"PRIMGEO_FLAG\"]==0)]\n",
    "rural_df = rural_city[[\"NAME\", \"STNAME\", \"POPESTIMATE2019\"]]\n",
    "urban_city = df[df[\"POPESTIMATE2019\"]>= 50000]\n",
    "urban_df = urban_city[[\"NAME\", \"STNAME\", \"POPESTIMATE2019\"]]\n",
    "urban_index = urban_df.loc[urban_df[\"NAME\"] == urban_df[\"STNAME\"]].index\n",
    "urban_clean = urban_df.drop(urban_index)\n",
    "random_urban_city = urban_clean[[\"NAME\", \"STNAME\",\"POPESTIMATE2019\"]].sample(n=100, random_state=1)\n",
    "random_rural_city = rural_df[[\"NAME\", \"STNAME\", \"POPESTIMATE2019\"]].sample(n=100, random_state=1)"
   ]
  },
  {
   "cell_type": "code",
   "execution_count": null,
   "metadata": {},
   "outputs": [],
   "source": [
    "### Yelp API calls ###\n",
    "\n",
    "# Looped through city and state names from the urban and rural dataframes to call Yelp API business search parameters.\n",
    "# Set search radius of each call to be 5 miles (standard delivery distance).\n",
    "# Used nested loop for offset parameter in order to pull multiple pages of results per search\n",
    "# For each loop, returned search term, city, state, lat, lng, rest. name, category, and transactions & assigned them to dict"
   ]
  },
  {
   "cell_type": "code",
   "execution_count": null,
   "metadata": {},
   "outputs": [],
   "source": [
    "headers = {'Authorization': 'Bearer %s' % my_api_key}\n",
    "\n",
    "rural_dict = {\n",
    "    \"Searched\": [],\n",
    "    \"City\": [],\n",
    "    \"Lat\": [],\n",
    "    \"Lng\": []\n",
    "}\n",
    "\n",
    "url='https://api.yelp.com/v3/businesses/search'\n",
    "offset = np.arange(0,950,50).tolist() \n",
    "\n",
    "for city, state in zip(random_rural_city[\"NAME\"], random_rural_city[\"STNAME\"]):\n",
    "    for i in range(len(offset)):\n",
    "        params = {\n",
    "            'term': 'restaurant',\n",
    "            'location': f\"{city}, {state}\",\n",
    "            'radius': 8047,\n",
    "            'limit': 50,\n",
    "            'offset': offset[i]\n",
    "                 }\n",
    "        response = requests.get(url, params = params, headers = headers).json()\n",
    "        try:\n",
    "            for business in range(len(response[\"businesses\"])):\n",
    "                try:\n",
    "                    rural_dict[\"Searched\"].append(f\"{city}, {state}\")\n",
    "                    rural_dict[\"City\"].append(response[\"businesses\"][business][\"location\"][\"city\"])\n",
    "                    rural_dict[\"Lat\"].append(response[\"businesses\"][business][\"coordinates\"][\"latitude\"])\n",
    "                    rural_dict[\"Lng\"].append(response[\"businesses\"][business][\"coordinates\"][\"longitude\"])\n",
    "\n",
    "                except KeyError:\n",
    "                    rural_dict[\"Searched\"].append(\"No City Found\")\n",
    "                    rural_dict[\"City\"].append(\"No City Found\")\n",
    "                    rural_dict[\"Lat\"].append(\"No Lat Found\")\n",
    "                    rural_dict[\"Lng\"].append(\"No Lng Found\")\n",
    "\n",
    "        except KeyError:\n",
    "                pass"
   ]
  }
 ],
 "metadata": {
  "kernelspec": {
   "display_name": "Python 3",
   "language": "python",
   "name": "python3"
  },
  "language_info": {
   "codemirror_mode": {
    "name": "ipython",
    "version": 3
   },
   "file_extension": ".py",
   "mimetype": "text/x-python",
   "name": "python",
   "nbconvert_exporter": "python",
   "pygments_lexer": "ipython3",
   "version": "3.8.3"
  }
 },
 "nbformat": 4,
 "nbformat_minor": 2
}
